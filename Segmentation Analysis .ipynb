{
 "cells": [
  {
   "cell_type": "markdown",
   "id": "05e6a364",
   "metadata": {},
   "source": [
    "## Hind Ali  "
   ]
  },
  {
   "cell_type": "code",
   "execution_count": 1,
   "id": "15f42eb5",
   "metadata": {},
   "outputs": [],
   "source": [
    "import pandas as pd\n",
    "import matplotlib.pyplot as plt\n",
    "import numpy as np"
   ]
  },
  {
   "cell_type": "markdown",
   "id": "ddac6082",
   "metadata": {},
   "source": [
    "#### 1-Load the Movie & Rating Data set to pandas and format the data in a way that will allow you to compare the average ratings from users for each genre. Hint:  Split the Movie data based on genre."
   ]
  },
  {
   "cell_type": "code",
   "execution_count": 2,
   "id": "24b3b1a4",
   "metadata": {},
   "outputs": [],
   "source": [
    "dfmovie=pd.read_csv('movies.csv')\n",
    "dfrating=pd.read_csv('ratings.csv')\n"
   ]
  },
  {
   "cell_type": "code",
   "execution_count": 3,
   "id": "094fc8cf",
   "metadata": {},
   "outputs": [
    {
     "data": {
      "text/html": [
       "<div>\n",
       "<style scoped>\n",
       "    .dataframe tbody tr th:only-of-type {\n",
       "        vertical-align: middle;\n",
       "    }\n",
       "\n",
       "    .dataframe tbody tr th {\n",
       "        vertical-align: top;\n",
       "    }\n",
       "\n",
       "    .dataframe thead th {\n",
       "        text-align: right;\n",
       "    }\n",
       "</style>\n",
       "<table border=\"1\" class=\"dataframe\">\n",
       "  <thead>\n",
       "    <tr style=\"text-align: right;\">\n",
       "      <th></th>\n",
       "      <th>movieId</th>\n",
       "      <th>title</th>\n",
       "      <th>genres</th>\n",
       "    </tr>\n",
       "  </thead>\n",
       "  <tbody>\n",
       "    <tr>\n",
       "      <th>0</th>\n",
       "      <td>1</td>\n",
       "      <td>Toy Story (1995)</td>\n",
       "      <td>Adventure|Animation|Children|Comedy|Fantasy</td>\n",
       "    </tr>\n",
       "    <tr>\n",
       "      <th>1</th>\n",
       "      <td>2</td>\n",
       "      <td>Jumanji (1995)</td>\n",
       "      <td>Adventure|Children|Fantasy</td>\n",
       "    </tr>\n",
       "    <tr>\n",
       "      <th>2</th>\n",
       "      <td>3</td>\n",
       "      <td>Grumpier Old Men (1995)</td>\n",
       "      <td>Comedy|Romance</td>\n",
       "    </tr>\n",
       "    <tr>\n",
       "      <th>3</th>\n",
       "      <td>4</td>\n",
       "      <td>Waiting to Exhale (1995)</td>\n",
       "      <td>Comedy|Drama|Romance</td>\n",
       "    </tr>\n",
       "    <tr>\n",
       "      <th>4</th>\n",
       "      <td>5</td>\n",
       "      <td>Father of the Bride Part II (1995)</td>\n",
       "      <td>Comedy</td>\n",
       "    </tr>\n",
       "  </tbody>\n",
       "</table>\n",
       "</div>"
      ],
      "text/plain": [
       "   movieId                               title  \\\n",
       "0        1                    Toy Story (1995)   \n",
       "1        2                      Jumanji (1995)   \n",
       "2        3             Grumpier Old Men (1995)   \n",
       "3        4            Waiting to Exhale (1995)   \n",
       "4        5  Father of the Bride Part II (1995)   \n",
       "\n",
       "                                        genres  \n",
       "0  Adventure|Animation|Children|Comedy|Fantasy  \n",
       "1                   Adventure|Children|Fantasy  \n",
       "2                               Comedy|Romance  \n",
       "3                         Comedy|Drama|Romance  \n",
       "4                                       Comedy  "
      ]
     },
     "execution_count": 3,
     "metadata": {},
     "output_type": "execute_result"
    }
   ],
   "source": [
    "dfmovie.head()"
   ]
  },
  {
   "cell_type": "code",
   "execution_count": 4,
   "id": "406fd15b",
   "metadata": {},
   "outputs": [
    {
     "data": {
      "text/html": [
       "<div>\n",
       "<style scoped>\n",
       "    .dataframe tbody tr th:only-of-type {\n",
       "        vertical-align: middle;\n",
       "    }\n",
       "\n",
       "    .dataframe tbody tr th {\n",
       "        vertical-align: top;\n",
       "    }\n",
       "\n",
       "    .dataframe thead th {\n",
       "        text-align: right;\n",
       "    }\n",
       "</style>\n",
       "<table border=\"1\" class=\"dataframe\">\n",
       "  <thead>\n",
       "    <tr style=\"text-align: right;\">\n",
       "      <th></th>\n",
       "      <th>userId</th>\n",
       "      <th>movieId</th>\n",
       "      <th>rating</th>\n",
       "      <th>timestamp</th>\n",
       "    </tr>\n",
       "  </thead>\n",
       "  <tbody>\n",
       "    <tr>\n",
       "      <th>0</th>\n",
       "      <td>1</td>\n",
       "      <td>31</td>\n",
       "      <td>2.5</td>\n",
       "      <td>1260759144</td>\n",
       "    </tr>\n",
       "    <tr>\n",
       "      <th>1</th>\n",
       "      <td>1</td>\n",
       "      <td>1029</td>\n",
       "      <td>3.0</td>\n",
       "      <td>1260759179</td>\n",
       "    </tr>\n",
       "    <tr>\n",
       "      <th>2</th>\n",
       "      <td>1</td>\n",
       "      <td>1061</td>\n",
       "      <td>3.0</td>\n",
       "      <td>1260759182</td>\n",
       "    </tr>\n",
       "    <tr>\n",
       "      <th>3</th>\n",
       "      <td>1</td>\n",
       "      <td>1129</td>\n",
       "      <td>2.0</td>\n",
       "      <td>1260759185</td>\n",
       "    </tr>\n",
       "    <tr>\n",
       "      <th>4</th>\n",
       "      <td>1</td>\n",
       "      <td>1172</td>\n",
       "      <td>4.0</td>\n",
       "      <td>1260759205</td>\n",
       "    </tr>\n",
       "  </tbody>\n",
       "</table>\n",
       "</div>"
      ],
      "text/plain": [
       "   userId  movieId  rating   timestamp\n",
       "0       1       31     2.5  1260759144\n",
       "1       1     1029     3.0  1260759179\n",
       "2       1     1061     3.0  1260759182\n",
       "3       1     1129     2.0  1260759185\n",
       "4       1     1172     4.0  1260759205"
      ]
     },
     "execution_count": 4,
     "metadata": {},
     "output_type": "execute_result"
    }
   ],
   "source": [
    "dfrating.head()"
   ]
  },
  {
   "cell_type": "code",
   "execution_count": 5,
   "id": "f830ea87",
   "metadata": {},
   "outputs": [],
   "source": [
    "dfMerge = pd.merge(dfmovie,dfrating, on ='movieId')"
   ]
  },
  {
   "cell_type": "code",
   "execution_count": 6,
   "id": "391eedda",
   "metadata": {},
   "outputs": [],
   "source": [
    "split_genres = dfMerge['genres'].str.split('|', expand=True)\n",
    "split_genres.columns = ['genre_{}'.format(i+1) for i in range(split_genres.shape[1])]\n",
    "df = pd.concat([dfMerge, split_genres], axis=1)"
   ]
  },
  {
   "cell_type": "code",
   "execution_count": 7,
   "id": "65de5f8d",
   "metadata": {},
   "outputs": [
    {
     "data": {
      "text/html": [
       "<div>\n",
       "<style scoped>\n",
       "    .dataframe tbody tr th:only-of-type {\n",
       "        vertical-align: middle;\n",
       "    }\n",
       "\n",
       "    .dataframe tbody tr th {\n",
       "        vertical-align: top;\n",
       "    }\n",
       "\n",
       "    .dataframe thead th {\n",
       "        text-align: right;\n",
       "    }\n",
       "</style>\n",
       "<table border=\"1\" class=\"dataframe\">\n",
       "  <thead>\n",
       "    <tr style=\"text-align: right;\">\n",
       "      <th></th>\n",
       "      <th>movieId</th>\n",
       "      <th>title</th>\n",
       "      <th>genres</th>\n",
       "      <th>userId</th>\n",
       "      <th>rating</th>\n",
       "      <th>timestamp</th>\n",
       "      <th>genre_1</th>\n",
       "      <th>genre_2</th>\n",
       "      <th>genre_3</th>\n",
       "      <th>genre_4</th>\n",
       "      <th>genre_5</th>\n",
       "      <th>genre_6</th>\n",
       "      <th>genre_7</th>\n",
       "      <th>genre_8</th>\n",
       "      <th>genre_9</th>\n",
       "      <th>genre_10</th>\n",
       "    </tr>\n",
       "  </thead>\n",
       "  <tbody>\n",
       "    <tr>\n",
       "      <th>0</th>\n",
       "      <td>1</td>\n",
       "      <td>Toy Story (1995)</td>\n",
       "      <td>Adventure|Animation|Children|Comedy|Fantasy</td>\n",
       "      <td>7</td>\n",
       "      <td>3.0</td>\n",
       "      <td>851866703</td>\n",
       "      <td>Adventure</td>\n",
       "      <td>Animation</td>\n",
       "      <td>Children</td>\n",
       "      <td>Comedy</td>\n",
       "      <td>Fantasy</td>\n",
       "      <td>None</td>\n",
       "      <td>None</td>\n",
       "      <td>None</td>\n",
       "      <td>None</td>\n",
       "      <td>None</td>\n",
       "    </tr>\n",
       "    <tr>\n",
       "      <th>1</th>\n",
       "      <td>1</td>\n",
       "      <td>Toy Story (1995)</td>\n",
       "      <td>Adventure|Animation|Children|Comedy|Fantasy</td>\n",
       "      <td>9</td>\n",
       "      <td>4.0</td>\n",
       "      <td>938629179</td>\n",
       "      <td>Adventure</td>\n",
       "      <td>Animation</td>\n",
       "      <td>Children</td>\n",
       "      <td>Comedy</td>\n",
       "      <td>Fantasy</td>\n",
       "      <td>None</td>\n",
       "      <td>None</td>\n",
       "      <td>None</td>\n",
       "      <td>None</td>\n",
       "      <td>None</td>\n",
       "    </tr>\n",
       "    <tr>\n",
       "      <th>2</th>\n",
       "      <td>1</td>\n",
       "      <td>Toy Story (1995)</td>\n",
       "      <td>Adventure|Animation|Children|Comedy|Fantasy</td>\n",
       "      <td>13</td>\n",
       "      <td>5.0</td>\n",
       "      <td>1331380058</td>\n",
       "      <td>Adventure</td>\n",
       "      <td>Animation</td>\n",
       "      <td>Children</td>\n",
       "      <td>Comedy</td>\n",
       "      <td>Fantasy</td>\n",
       "      <td>None</td>\n",
       "      <td>None</td>\n",
       "      <td>None</td>\n",
       "      <td>None</td>\n",
       "      <td>None</td>\n",
       "    </tr>\n",
       "    <tr>\n",
       "      <th>3</th>\n",
       "      <td>1</td>\n",
       "      <td>Toy Story (1995)</td>\n",
       "      <td>Adventure|Animation|Children|Comedy|Fantasy</td>\n",
       "      <td>15</td>\n",
       "      <td>2.0</td>\n",
       "      <td>997938310</td>\n",
       "      <td>Adventure</td>\n",
       "      <td>Animation</td>\n",
       "      <td>Children</td>\n",
       "      <td>Comedy</td>\n",
       "      <td>Fantasy</td>\n",
       "      <td>None</td>\n",
       "      <td>None</td>\n",
       "      <td>None</td>\n",
       "      <td>None</td>\n",
       "      <td>None</td>\n",
       "    </tr>\n",
       "    <tr>\n",
       "      <th>4</th>\n",
       "      <td>1</td>\n",
       "      <td>Toy Story (1995)</td>\n",
       "      <td>Adventure|Animation|Children|Comedy|Fantasy</td>\n",
       "      <td>19</td>\n",
       "      <td>3.0</td>\n",
       "      <td>855190091</td>\n",
       "      <td>Adventure</td>\n",
       "      <td>Animation</td>\n",
       "      <td>Children</td>\n",
       "      <td>Comedy</td>\n",
       "      <td>Fantasy</td>\n",
       "      <td>None</td>\n",
       "      <td>None</td>\n",
       "      <td>None</td>\n",
       "      <td>None</td>\n",
       "      <td>None</td>\n",
       "    </tr>\n",
       "  </tbody>\n",
       "</table>\n",
       "</div>"
      ],
      "text/plain": [
       "   movieId             title                                       genres  \\\n",
       "0        1  Toy Story (1995)  Adventure|Animation|Children|Comedy|Fantasy   \n",
       "1        1  Toy Story (1995)  Adventure|Animation|Children|Comedy|Fantasy   \n",
       "2        1  Toy Story (1995)  Adventure|Animation|Children|Comedy|Fantasy   \n",
       "3        1  Toy Story (1995)  Adventure|Animation|Children|Comedy|Fantasy   \n",
       "4        1  Toy Story (1995)  Adventure|Animation|Children|Comedy|Fantasy   \n",
       "\n",
       "   userId  rating   timestamp    genre_1    genre_2   genre_3 genre_4  \\\n",
       "0       7     3.0   851866703  Adventure  Animation  Children  Comedy   \n",
       "1       9     4.0   938629179  Adventure  Animation  Children  Comedy   \n",
       "2      13     5.0  1331380058  Adventure  Animation  Children  Comedy   \n",
       "3      15     2.0   997938310  Adventure  Animation  Children  Comedy   \n",
       "4      19     3.0   855190091  Adventure  Animation  Children  Comedy   \n",
       "\n",
       "   genre_5 genre_6 genre_7 genre_8 genre_9 genre_10  \n",
       "0  Fantasy    None    None    None    None     None  \n",
       "1  Fantasy    None    None    None    None     None  \n",
       "2  Fantasy    None    None    None    None     None  \n",
       "3  Fantasy    None    None    None    None     None  \n",
       "4  Fantasy    None    None    None    None     None  "
      ]
     },
     "execution_count": 7,
     "metadata": {},
     "output_type": "execute_result"
    }
   ],
   "source": [
    "df.head()"
   ]
  },
  {
   "cell_type": "code",
   "execution_count": 8,
   "id": "bd4cb493",
   "metadata": {},
   "outputs": [],
   "source": [
    "genre_mean=df.groupby(['userId','genres'])['rating'].mean()"
   ]
  },
  {
   "cell_type": "code",
   "execution_count": 9,
   "id": "e45ebad4",
   "metadata": {},
   "outputs": [
    {
     "data": {
      "text/plain": [
       "userId  genres                          \n",
       "1       Action|Adventure|Drama              2.0\n",
       "        Action|Adventure|Fantasy            2.0\n",
       "        Action|Adventure|Sci-Fi             4.0\n",
       "        Action|Adventure|Sci-Fi|Thriller    2.0\n",
       "        Action|Crime|Thriller               4.0\n",
       "                                           ... \n",
       "671     Drama|War                           4.0\n",
       "        Drama|Western                       4.0\n",
       "        Musical|Romance                     5.0\n",
       "        Thriller                            4.0\n",
       "        Western                             4.0\n",
       "Name: rating, Length: 45745, dtype: float64"
      ]
     },
     "execution_count": 9,
     "metadata": {},
     "output_type": "execute_result"
    }
   ],
   "source": [
    "genre_mean"
   ]
  },
  {
   "cell_type": "code",
   "execution_count": 10,
   "id": "cbd95102",
   "metadata": {},
   "outputs": [],
   "source": [
    "dfmean = pd.DataFrame(genre_mean).reset_index()"
   ]
  },
  {
   "cell_type": "code",
   "execution_count": 11,
   "id": "10aced70",
   "metadata": {},
   "outputs": [
    {
     "data": {
      "text/html": [
       "<div>\n",
       "<style scoped>\n",
       "    .dataframe tbody tr th:only-of-type {\n",
       "        vertical-align: middle;\n",
       "    }\n",
       "\n",
       "    .dataframe tbody tr th {\n",
       "        vertical-align: top;\n",
       "    }\n",
       "\n",
       "    .dataframe thead th {\n",
       "        text-align: right;\n",
       "    }\n",
       "</style>\n",
       "<table border=\"1\" class=\"dataframe\">\n",
       "  <thead>\n",
       "    <tr style=\"text-align: right;\">\n",
       "      <th></th>\n",
       "      <th>userId</th>\n",
       "      <th>genres</th>\n",
       "      <th>rating</th>\n",
       "    </tr>\n",
       "  </thead>\n",
       "  <tbody>\n",
       "    <tr>\n",
       "      <th>0</th>\n",
       "      <td>1</td>\n",
       "      <td>Action|Adventure|Drama</td>\n",
       "      <td>2.0</td>\n",
       "    </tr>\n",
       "    <tr>\n",
       "      <th>1</th>\n",
       "      <td>1</td>\n",
       "      <td>Action|Adventure|Fantasy</td>\n",
       "      <td>2.0</td>\n",
       "    </tr>\n",
       "    <tr>\n",
       "      <th>2</th>\n",
       "      <td>1</td>\n",
       "      <td>Action|Adventure|Sci-Fi</td>\n",
       "      <td>4.0</td>\n",
       "    </tr>\n",
       "    <tr>\n",
       "      <th>3</th>\n",
       "      <td>1</td>\n",
       "      <td>Action|Adventure|Sci-Fi|Thriller</td>\n",
       "      <td>2.0</td>\n",
       "    </tr>\n",
       "    <tr>\n",
       "      <th>4</th>\n",
       "      <td>1</td>\n",
       "      <td>Action|Crime|Thriller</td>\n",
       "      <td>4.0</td>\n",
       "    </tr>\n",
       "    <tr>\n",
       "      <th>...</th>\n",
       "      <td>...</td>\n",
       "      <td>...</td>\n",
       "      <td>...</td>\n",
       "    </tr>\n",
       "    <tr>\n",
       "      <th>45740</th>\n",
       "      <td>671</td>\n",
       "      <td>Drama|War</td>\n",
       "      <td>4.0</td>\n",
       "    </tr>\n",
       "    <tr>\n",
       "      <th>45741</th>\n",
       "      <td>671</td>\n",
       "      <td>Drama|Western</td>\n",
       "      <td>4.0</td>\n",
       "    </tr>\n",
       "    <tr>\n",
       "      <th>45742</th>\n",
       "      <td>671</td>\n",
       "      <td>Musical|Romance</td>\n",
       "      <td>5.0</td>\n",
       "    </tr>\n",
       "    <tr>\n",
       "      <th>45743</th>\n",
       "      <td>671</td>\n",
       "      <td>Thriller</td>\n",
       "      <td>4.0</td>\n",
       "    </tr>\n",
       "    <tr>\n",
       "      <th>45744</th>\n",
       "      <td>671</td>\n",
       "      <td>Western</td>\n",
       "      <td>4.0</td>\n",
       "    </tr>\n",
       "  </tbody>\n",
       "</table>\n",
       "<p>45745 rows × 3 columns</p>\n",
       "</div>"
      ],
      "text/plain": [
       "       userId                            genres  rating\n",
       "0           1            Action|Adventure|Drama     2.0\n",
       "1           1          Action|Adventure|Fantasy     2.0\n",
       "2           1           Action|Adventure|Sci-Fi     4.0\n",
       "3           1  Action|Adventure|Sci-Fi|Thriller     2.0\n",
       "4           1             Action|Crime|Thriller     4.0\n",
       "...       ...                               ...     ...\n",
       "45740     671                         Drama|War     4.0\n",
       "45741     671                     Drama|Western     4.0\n",
       "45742     671                   Musical|Romance     5.0\n",
       "45743     671                          Thriller     4.0\n",
       "45744     671                           Western     4.0\n",
       "\n",
       "[45745 rows x 3 columns]"
      ]
     },
     "execution_count": 11,
     "metadata": {},
     "output_type": "execute_result"
    }
   ],
   "source": [
    "dfmean "
   ]
  },
  {
   "cell_type": "markdown",
   "id": "267389d6",
   "metadata": {},
   "source": [
    "#### 2-Using pandas, find two genres with significant review data to analyze, (not sci-fi or romance as they were in the demo). Use graphs or any other numerical summaries to figure out two genres with higher ratings"
   ]
  },
  {
   "cell_type": "code",
   "execution_count": 12,
   "id": "5d465297",
   "metadata": {},
   "outputs": [],
   "source": [
    "genres = dfmean.sort_values(by='rating', ascending=False)"
   ]
  },
  {
   "cell_type": "code",
   "execution_count": 13,
   "id": "b18cff7e",
   "metadata": {},
   "outputs": [
    {
     "data": {
      "text/html": [
       "<div>\n",
       "<style scoped>\n",
       "    .dataframe tbody tr th:only-of-type {\n",
       "        vertical-align: middle;\n",
       "    }\n",
       "\n",
       "    .dataframe tbody tr th {\n",
       "        vertical-align: top;\n",
       "    }\n",
       "\n",
       "    .dataframe thead th {\n",
       "        text-align: right;\n",
       "    }\n",
       "</style>\n",
       "<table border=\"1\" class=\"dataframe\">\n",
       "  <thead>\n",
       "    <tr style=\"text-align: right;\">\n",
       "      <th></th>\n",
       "      <th>userId</th>\n",
       "      <th>genres</th>\n",
       "      <th>rating</th>\n",
       "    </tr>\n",
       "  </thead>\n",
       "  <tbody>\n",
       "    <tr>\n",
       "      <th>13056</th>\n",
       "      <td>197</td>\n",
       "      <td>Action|Adventure|Animation|Horror|Sci-Fi</td>\n",
       "      <td>5.0</td>\n",
       "    </tr>\n",
       "    <tr>\n",
       "      <th>8005</th>\n",
       "      <td>116</td>\n",
       "      <td>Action|Adventure|Drama|Fantasy</td>\n",
       "      <td>5.0</td>\n",
       "    </tr>\n",
       "    <tr>\n",
       "      <th>8033</th>\n",
       "      <td>117</td>\n",
       "      <td>Drama|Musical|Romance</td>\n",
       "      <td>5.0</td>\n",
       "    </tr>\n",
       "    <tr>\n",
       "      <th>20592</th>\n",
       "      <td>304</td>\n",
       "      <td>Mystery|Sci-Fi|Thriller</td>\n",
       "      <td>5.0</td>\n",
       "    </tr>\n",
       "    <tr>\n",
       "      <th>40017</th>\n",
       "      <td>584</td>\n",
       "      <td>Action|Crime|Drama</td>\n",
       "      <td>5.0</td>\n",
       "    </tr>\n",
       "    <tr>\n",
       "      <th>...</th>\n",
       "      <td>...</td>\n",
       "      <td>...</td>\n",
       "      <td>...</td>\n",
       "    </tr>\n",
       "    <tr>\n",
       "      <th>30205</th>\n",
       "      <td>457</td>\n",
       "      <td>Children|Musical|Mystery</td>\n",
       "      <td>0.5</td>\n",
       "    </tr>\n",
       "    <tr>\n",
       "      <th>1061</th>\n",
       "      <td>17</td>\n",
       "      <td>Action|Adventure|Comedy|Crime|Thriller</td>\n",
       "      <td>0.5</td>\n",
       "    </tr>\n",
       "    <tr>\n",
       "      <th>30282</th>\n",
       "      <td>457</td>\n",
       "      <td>Drama|Sci-Fi|War</td>\n",
       "      <td>0.5</td>\n",
       "    </tr>\n",
       "    <tr>\n",
       "      <th>21072</th>\n",
       "      <td>311</td>\n",
       "      <td>Adventure|Drama|Fantasy</td>\n",
       "      <td>0.5</td>\n",
       "    </tr>\n",
       "    <tr>\n",
       "      <th>785</th>\n",
       "      <td>15</td>\n",
       "      <td>Action|Fantasy|Sci-Fi|IMAX</td>\n",
       "      <td>0.5</td>\n",
       "    </tr>\n",
       "  </tbody>\n",
       "</table>\n",
       "<p>45745 rows × 3 columns</p>\n",
       "</div>"
      ],
      "text/plain": [
       "       userId                                    genres  rating\n",
       "13056     197  Action|Adventure|Animation|Horror|Sci-Fi     5.0\n",
       "8005      116            Action|Adventure|Drama|Fantasy     5.0\n",
       "8033      117                     Drama|Musical|Romance     5.0\n",
       "20592     304                   Mystery|Sci-Fi|Thriller     5.0\n",
       "40017     584                        Action|Crime|Drama     5.0\n",
       "...       ...                                       ...     ...\n",
       "30205     457                  Children|Musical|Mystery     0.5\n",
       "1061       17    Action|Adventure|Comedy|Crime|Thriller     0.5\n",
       "30282     457                          Drama|Sci-Fi|War     0.5\n",
       "21072     311                   Adventure|Drama|Fantasy     0.5\n",
       "785        15                Action|Fantasy|Sci-Fi|IMAX     0.5\n",
       "\n",
       "[45745 rows x 3 columns]"
      ]
     },
     "execution_count": 13,
     "metadata": {},
     "output_type": "execute_result"
    }
   ],
   "source": [
    "genres"
   ]
  },
  {
   "cell_type": "code",
   "execution_count": 14,
   "id": "e6588229",
   "metadata": {},
   "outputs": [],
   "source": [
    "genres1 = ['Action', 'Drama']"
   ]
  },
  {
   "cell_type": "code",
   "execution_count": 15,
   "id": "a0af6f34",
   "metadata": {},
   "outputs": [],
   "source": [
    "dfg= genres.loc[genres['genres'].isin(genres1)]"
   ]
  },
  {
   "cell_type": "code",
   "execution_count": 16,
   "id": "2bbf70bd",
   "metadata": {},
   "outputs": [
    {
     "data": {
      "text/html": [
       "<div>\n",
       "<style scoped>\n",
       "    .dataframe tbody tr th:only-of-type {\n",
       "        vertical-align: middle;\n",
       "    }\n",
       "\n",
       "    .dataframe tbody tr th {\n",
       "        vertical-align: top;\n",
       "    }\n",
       "\n",
       "    .dataframe thead th {\n",
       "        text-align: right;\n",
       "    }\n",
       "</style>\n",
       "<table border=\"1\" class=\"dataframe\">\n",
       "  <thead>\n",
       "    <tr style=\"text-align: right;\">\n",
       "      <th></th>\n",
       "      <th>userId</th>\n",
       "      <th>genres</th>\n",
       "      <th>rating</th>\n",
       "    </tr>\n",
       "  </thead>\n",
       "  <tbody>\n",
       "    <tr>\n",
       "      <th>30977</th>\n",
       "      <td>465</td>\n",
       "      <td>Drama</td>\n",
       "      <td>5.0</td>\n",
       "    </tr>\n",
       "    <tr>\n",
       "      <th>30953</th>\n",
       "      <td>464</td>\n",
       "      <td>Drama</td>\n",
       "      <td>5.0</td>\n",
       "    </tr>\n",
       "    <tr>\n",
       "      <th>30002</th>\n",
       "      <td>454</td>\n",
       "      <td>Drama</td>\n",
       "      <td>5.0</td>\n",
       "    </tr>\n",
       "    <tr>\n",
       "      <th>30346</th>\n",
       "      <td>458</td>\n",
       "      <td>Drama</td>\n",
       "      <td>5.0</td>\n",
       "    </tr>\n",
       "    <tr>\n",
       "      <th>19270</th>\n",
       "      <td>288</td>\n",
       "      <td>Action</td>\n",
       "      <td>5.0</td>\n",
       "    </tr>\n",
       "    <tr>\n",
       "      <th>...</th>\n",
       "      <td>...</td>\n",
       "      <td>...</td>\n",
       "      <td>...</td>\n",
       "    </tr>\n",
       "    <tr>\n",
       "      <th>25187</th>\n",
       "      <td>381</td>\n",
       "      <td>Action</td>\n",
       "      <td>1.0</td>\n",
       "    </tr>\n",
       "    <tr>\n",
       "      <th>32276</th>\n",
       "      <td>477</td>\n",
       "      <td>Drama</td>\n",
       "      <td>0.5</td>\n",
       "    </tr>\n",
       "    <tr>\n",
       "      <th>30029</th>\n",
       "      <td>455</td>\n",
       "      <td>Drama</td>\n",
       "      <td>0.5</td>\n",
       "    </tr>\n",
       "    <tr>\n",
       "      <th>13824</th>\n",
       "      <td>207</td>\n",
       "      <td>Drama</td>\n",
       "      <td>0.5</td>\n",
       "    </tr>\n",
       "    <tr>\n",
       "      <th>13604</th>\n",
       "      <td>204</td>\n",
       "      <td>Action</td>\n",
       "      <td>0.5</td>\n",
       "    </tr>\n",
       "  </tbody>\n",
       "</table>\n",
       "<p>683 rows × 3 columns</p>\n",
       "</div>"
      ],
      "text/plain": [
       "       userId  genres  rating\n",
       "30977     465   Drama     5.0\n",
       "30953     464   Drama     5.0\n",
       "30002     454   Drama     5.0\n",
       "30346     458   Drama     5.0\n",
       "19270     288  Action     5.0\n",
       "...       ...     ...     ...\n",
       "25187     381  Action     1.0\n",
       "32276     477   Drama     0.5\n",
       "30029     455   Drama     0.5\n",
       "13824     207   Drama     0.5\n",
       "13604     204  Action     0.5\n",
       "\n",
       "[683 rows x 3 columns]"
      ]
     },
     "execution_count": 16,
     "metadata": {},
     "output_type": "execute_result"
    }
   ],
   "source": [
    "dfg"
   ]
  },
  {
   "cell_type": "code",
   "execution_count": 17,
   "id": "c8fb9e4e",
   "metadata": {},
   "outputs": [],
   "source": [
    "dfgenre = dfg.pivot_table(index='userId', columns='genres', values='rating', fill_value=0)"
   ]
  },
  {
   "cell_type": "code",
   "execution_count": 18,
   "id": "db9a34e6",
   "metadata": {},
   "outputs": [],
   "source": [
    "dfgenre['Action'] = dfgenre['Action'].replace(0,np.nan)\n",
    "dfgenre['Drama'] = dfgenre['Drama'].replace(0,np.nan)"
   ]
  },
  {
   "cell_type": "code",
   "execution_count": 19,
   "id": "4ae333c7",
   "metadata": {},
   "outputs": [],
   "source": [
    "dfgenre = dfgenre.groupby(['userId']).mean()"
   ]
  },
  {
   "cell_type": "code",
   "execution_count": 20,
   "id": "7741c494",
   "metadata": {},
   "outputs": [
    {
     "data": {
      "text/html": [
       "<div>\n",
       "<style scoped>\n",
       "    .dataframe tbody tr th:only-of-type {\n",
       "        vertical-align: middle;\n",
       "    }\n",
       "\n",
       "    .dataframe tbody tr th {\n",
       "        vertical-align: top;\n",
       "    }\n",
       "\n",
       "    .dataframe thead th {\n",
       "        text-align: right;\n",
       "    }\n",
       "</style>\n",
       "<table border=\"1\" class=\"dataframe\">\n",
       "  <thead>\n",
       "    <tr style=\"text-align: right;\">\n",
       "      <th>genres</th>\n",
       "      <th>Action</th>\n",
       "      <th>Drama</th>\n",
       "    </tr>\n",
       "    <tr>\n",
       "      <th>userId</th>\n",
       "      <th></th>\n",
       "      <th></th>\n",
       "    </tr>\n",
       "  </thead>\n",
       "  <tbody>\n",
       "    <tr>\n",
       "      <th>1</th>\n",
       "      <td>NaN</td>\n",
       "      <td>2.833333</td>\n",
       "    </tr>\n",
       "    <tr>\n",
       "      <th>2</th>\n",
       "      <td>NaN</td>\n",
       "      <td>3.600000</td>\n",
       "    </tr>\n",
       "    <tr>\n",
       "      <th>3</th>\n",
       "      <td>NaN</td>\n",
       "      <td>4.250000</td>\n",
       "    </tr>\n",
       "    <tr>\n",
       "      <th>4</th>\n",
       "      <td>NaN</td>\n",
       "      <td>4.800000</td>\n",
       "    </tr>\n",
       "    <tr>\n",
       "      <th>5</th>\n",
       "      <td>NaN</td>\n",
       "      <td>4.000000</td>\n",
       "    </tr>\n",
       "  </tbody>\n",
       "</table>\n",
       "</div>"
      ],
      "text/plain": [
       "genres  Action     Drama\n",
       "userId                  \n",
       "1          NaN  2.833333\n",
       "2          NaN  3.600000\n",
       "3          NaN  4.250000\n",
       "4          NaN  4.800000\n",
       "5          NaN  4.000000"
      ]
     },
     "execution_count": 20,
     "metadata": {},
     "output_type": "execute_result"
    }
   ],
   "source": [
    "dfgenre.head()"
   ]
  },
  {
   "cell_type": "code",
   "execution_count": 21,
   "id": "f9a2f2c8",
   "metadata": {},
   "outputs": [],
   "source": [
    "dfgenre = dfgenre.dropna(how='any')"
   ]
  },
  {
   "cell_type": "code",
   "execution_count": 22,
   "id": "fe90c3c0",
   "metadata": {},
   "outputs": [
    {
     "data": {
      "text/html": [
       "<div>\n",
       "<style scoped>\n",
       "    .dataframe tbody tr th:only-of-type {\n",
       "        vertical-align: middle;\n",
       "    }\n",
       "\n",
       "    .dataframe tbody tr th {\n",
       "        vertical-align: top;\n",
       "    }\n",
       "\n",
       "    .dataframe thead th {\n",
       "        text-align: right;\n",
       "    }\n",
       "</style>\n",
       "<table border=\"1\" class=\"dataframe\">\n",
       "  <thead>\n",
       "    <tr style=\"text-align: right;\">\n",
       "      <th>genres</th>\n",
       "      <th>Action</th>\n",
       "      <th>Drama</th>\n",
       "    </tr>\n",
       "    <tr>\n",
       "      <th>userId</th>\n",
       "      <th></th>\n",
       "      <th></th>\n",
       "    </tr>\n",
       "  </thead>\n",
       "  <tbody>\n",
       "    <tr>\n",
       "      <th>18</th>\n",
       "      <td>3.0</td>\n",
       "      <td>3.000000</td>\n",
       "    </tr>\n",
       "    <tr>\n",
       "      <th>19</th>\n",
       "      <td>3.0</td>\n",
       "      <td>3.702128</td>\n",
       "    </tr>\n",
       "    <tr>\n",
       "      <th>32</th>\n",
       "      <td>4.0</td>\n",
       "      <td>3.600000</td>\n",
       "    </tr>\n",
       "    <tr>\n",
       "      <th>49</th>\n",
       "      <td>1.0</td>\n",
       "      <td>3.000000</td>\n",
       "    </tr>\n",
       "    <tr>\n",
       "      <th>58</th>\n",
       "      <td>2.0</td>\n",
       "      <td>3.400000</td>\n",
       "    </tr>\n",
       "  </tbody>\n",
       "</table>\n",
       "</div>"
      ],
      "text/plain": [
       "genres  Action     Drama\n",
       "userId                  \n",
       "18         3.0  3.000000\n",
       "19         3.0  3.702128\n",
       "32         4.0  3.600000\n",
       "49         1.0  3.000000\n",
       "58         2.0  3.400000"
      ]
     },
     "execution_count": 22,
     "metadata": {},
     "output_type": "execute_result"
    }
   ],
   "source": [
    "dfgenre.head()"
   ]
  },
  {
   "cell_type": "code",
   "execution_count": 23,
   "id": "04a926ab",
   "metadata": {},
   "outputs": [
    {
     "data": {
      "text/plain": [
       "Text(0, 0.5, 'Drama Ratings')"
      ]
     },
     "execution_count": 23,
     "metadata": {},
     "output_type": "execute_result"
    },
    {
     "data": {
      "image/png": "[encoded data removed]",
      "text/plain": [
       "<Figure size 432x288 with 1 Axes>"
      ]
     },
     "metadata": {
      "needs_background": "light"
     },
     "output_type": "display_data"
    }
   ],
   "source": [
    "plt.scatter (dfgenre['Action'], dfgenre['Drama'])\n",
    "plt.xlabel('Action Ratings')\n",
    "plt.ylabel('Drama Ratings')"
   ]
  },
  {
   "cell_type": "markdown",
   "id": "3aa35fc1",
   "metadata": {},
   "source": [
    "#### 3-Fit the data to a k-clustering model and experiment with 3 different K-Values to find segments where users have similar average ratings .  "
   ]
  },
  {
   "cell_type": "code",
   "execution_count": 24,
   "id": "67d2ce2d",
   "metadata": {},
   "outputs": [],
   "source": [
    "from sklearn.cluster import KMeans"
   ]
  },
  {
   "cell_type": "code",
   "execution_count": 25,
   "id": "de9e97ac",
   "metadata": {},
   "outputs": [
    {
     "name": "stderr",
     "output_type": "stream",
     "text": [
      "C:\\Users\\Hind Ali\\anaconda3\\lib\\site-packages\\sklearn\\cluster\\_kmeans.py:1036: UserWarning: KMeans is known to have a memory leak on Windows with MKL, when there are less chunks than available threads. You can avoid it by setting the environment variable OMP_NUM_THREADS=1.\n",
      "  warnings.warn(\n"
     ]
    },
    {
     "data": {
      "image/png": "[encoded data removed]",
      "text/plain": [
       "<Figure size 432x288 with 1 Axes>"
      ]
     },
     "metadata": {
      "needs_background": "light"
     },
     "output_type": "display_data"
    }
   ],
   "source": [
    "X = np.array(dfgenre)\n",
    "sse = []\n",
    "for k in range(1, 6):\n",
    "    kmeans = KMeans(n_clusters=k, random_state=0).fit(X)\n",
    "    sse.append(kmeans.inertia_)\n",
    "plt.plot(range(1, 6), sse)\n",
    "plt.xlabel('Number of clusters')\n",
    "plt.ylabel('Within-cluster sum of squares')\n",
    "plt.show()"
   ]
  },
  {
   "cell_type": "code",
   "execution_count": 26,
   "id": "fb1ca4a7",
   "metadata": {},
   "outputs": [
    {
     "name": "stdout",
     "output_type": "stream",
     "text": [
      "genres     Action     Drama\n",
      "cluster                    \n",
      "0        3.051948  3.717554\n",
      "1        2.432456  3.187329\n",
      "2        4.125000  4.202252\n",
      "3        1.070000  3.249153\n",
      "4        3.868056  3.274378\n"
     ]
    }
   ],
   "source": [
    "# Add the cluster labels to the data frame\n",
    "dfgenre['cluster'] = kmeans.labels_\n",
    "# Group the data by cluster and calculate the average ratings\n",
    "grouped = dfgenre.groupby('cluster').mean()[['Action','Drama']]\n",
    "# Print the grouped data\n",
    "print(grouped)"
   ]
  },
  {
   "cell_type": "code",
   "execution_count": 27,
   "id": "d0fc7145",
   "metadata": {},
   "outputs": [
    {
     "data": {
      "image/png": "[encoded data removed]",
      "text/plain": [
       "<Figure size 432x288 with 1 Axes>"
      ]
     },
     "metadata": {
      "needs_background": "light"
     },
     "output_type": "display_data"
    }
   ],
   "source": [
    "grouped.plot(kind='bar')\n",
    "plt.title('Mean Action and Drama Ratings for Each Cluster')\n",
    "plt.xlabel('Cluster')\n",
    "plt.ylabel('Mean Rating')\n",
    "plt.xticks(rotation=0)\n",
    "plt.show()"
   ]
  },
  {
   "cell_type": "code",
   "execution_count": null,
   "id": "fb80b2d6",
   "metadata": {},
   "outputs": [],
   "source": []
  },
  {
   "cell_type": "markdown",
   "id": "6ccc1878",
   "metadata": {},
   "source": [
    "#### 4-Do the same as in part 3 by selecting 4 genres with significant review(rating) data.  \n"
   ]
  },
  {
   "cell_type": "code",
   "execution_count": 28,
   "id": "ea45e48f",
   "metadata": {},
   "outputs": [],
   "source": [
    "genres2 = ['Action', 'Drama','Comedy','Adventure']"
   ]
  },
  {
   "cell_type": "code",
   "execution_count": 29,
   "id": "9c83f854",
   "metadata": {},
   "outputs": [],
   "source": [
    "dfg1= genres.loc[genres['genres'].isin(genres2)]"
   ]
  },
  {
   "cell_type": "code",
   "execution_count": 30,
   "id": "a44a781e",
   "metadata": {},
   "outputs": [],
   "source": [
    "dfgenre1 = dfg1.pivot_table(index='userId', columns='genres', values='rating', fill_value=0)"
   ]
  },
  {
   "cell_type": "code",
   "execution_count": 31,
   "id": "5d802f0d",
   "metadata": {},
   "outputs": [],
   "source": [
    "dfgenre1 ['Action'] = dfgenre1['Action'].replace(0,np.nan)\n",
    "dfgenre1 ['Drama'] = dfgenre1['Drama'].replace(0,np.nan)\n",
    "dfgenre1 ['Comedy'] = dfgenre1['Comedy'].replace(0,np.nan)\n",
    "dfgenre1['Adventure'] = dfgenre1['Adventure'].replace(0,np.nan)"
   ]
  },
  {
   "cell_type": "code",
   "execution_count": 32,
   "id": "2efd0685",
   "metadata": {},
   "outputs": [],
   "source": [
    "dfgenre1 = dfgenre1.groupby(['userId']).mean()"
   ]
  },
  {
   "cell_type": "code",
   "execution_count": 33,
   "id": "2e4885c2",
   "metadata": {},
   "outputs": [
    {
     "data": {
      "text/html": [
       "<div>\n",
       "<style scoped>\n",
       "    .dataframe tbody tr th:only-of-type {\n",
       "        vertical-align: middle;\n",
       "    }\n",
       "\n",
       "    .dataframe tbody tr th {\n",
       "        vertical-align: top;\n",
       "    }\n",
       "\n",
       "    .dataframe thead th {\n",
       "        text-align: right;\n",
       "    }\n",
       "</style>\n",
       "<table border=\"1\" class=\"dataframe\">\n",
       "  <thead>\n",
       "    <tr style=\"text-align: right;\">\n",
       "      <th>genres</th>\n",
       "      <th>Action</th>\n",
       "      <th>Adventure</th>\n",
       "      <th>Comedy</th>\n",
       "      <th>Drama</th>\n",
       "    </tr>\n",
       "    <tr>\n",
       "      <th>userId</th>\n",
       "      <th></th>\n",
       "      <th></th>\n",
       "      <th></th>\n",
       "      <th></th>\n",
       "    </tr>\n",
       "  </thead>\n",
       "  <tbody>\n",
       "    <tr>\n",
       "      <th>1</th>\n",
       "      <td>NaN</td>\n",
       "      <td>NaN</td>\n",
       "      <td>NaN</td>\n",
       "      <td>2.833333</td>\n",
       "    </tr>\n",
       "    <tr>\n",
       "      <th>2</th>\n",
       "      <td>NaN</td>\n",
       "      <td>NaN</td>\n",
       "      <td>3.000000</td>\n",
       "      <td>3.600000</td>\n",
       "    </tr>\n",
       "    <tr>\n",
       "      <th>3</th>\n",
       "      <td>NaN</td>\n",
       "      <td>NaN</td>\n",
       "      <td>3.000000</td>\n",
       "      <td>4.250000</td>\n",
       "    </tr>\n",
       "    <tr>\n",
       "      <th>4</th>\n",
       "      <td>NaN</td>\n",
       "      <td>NaN</td>\n",
       "      <td>4.416667</td>\n",
       "      <td>4.800000</td>\n",
       "    </tr>\n",
       "    <tr>\n",
       "      <th>5</th>\n",
       "      <td>NaN</td>\n",
       "      <td>NaN</td>\n",
       "      <td>3.909091</td>\n",
       "      <td>4.000000</td>\n",
       "    </tr>\n",
       "  </tbody>\n",
       "</table>\n",
       "</div>"
      ],
      "text/plain": [
       "genres  Action  Adventure    Comedy     Drama\n",
       "userId                                       \n",
       "1          NaN        NaN       NaN  2.833333\n",
       "2          NaN        NaN  3.000000  3.600000\n",
       "3          NaN        NaN  3.000000  4.250000\n",
       "4          NaN        NaN  4.416667  4.800000\n",
       "5          NaN        NaN  3.909091  4.000000"
      ]
     },
     "execution_count": 33,
     "metadata": {},
     "output_type": "execute_result"
    }
   ],
   "source": [
    "dfgenre1.head()"
   ]
  },
  {
   "cell_type": "code",
   "execution_count": 34,
   "id": "1d0e115d",
   "metadata": {},
   "outputs": [],
   "source": [
    "dfgenre1 = dfgenre1.dropna(how='any')"
   ]
  },
  {
   "cell_type": "code",
   "execution_count": 35,
   "id": "ee7bad41",
   "metadata": {},
   "outputs": [
    {
     "data": {
      "text/html": [
       "<div>\n",
       "<style scoped>\n",
       "    .dataframe tbody tr th:only-of-type {\n",
       "        vertical-align: middle;\n",
       "    }\n",
       "\n",
       "    .dataframe tbody tr th {\n",
       "        vertical-align: top;\n",
       "    }\n",
       "\n",
       "    .dataframe thead th {\n",
       "        text-align: right;\n",
       "    }\n",
       "</style>\n",
       "<table border=\"1\" class=\"dataframe\">\n",
       "  <thead>\n",
       "    <tr style=\"text-align: right;\">\n",
       "      <th>genres</th>\n",
       "      <th>Action</th>\n",
       "      <th>Adventure</th>\n",
       "      <th>Comedy</th>\n",
       "      <th>Drama</th>\n",
       "    </tr>\n",
       "    <tr>\n",
       "      <th>userId</th>\n",
       "      <th></th>\n",
       "      <th></th>\n",
       "      <th></th>\n",
       "      <th></th>\n",
       "    </tr>\n",
       "  </thead>\n",
       "  <tbody>\n",
       "    <tr>\n",
       "      <th>199</th>\n",
       "      <td>4.00</td>\n",
       "      <td>2.000000</td>\n",
       "      <td>3.812500</td>\n",
       "      <td>3.916667</td>\n",
       "    </tr>\n",
       "    <tr>\n",
       "      <th>263</th>\n",
       "      <td>3.00</td>\n",
       "      <td>3.000000</td>\n",
       "      <td>3.500000</td>\n",
       "      <td>3.227273</td>\n",
       "    </tr>\n",
       "    <tr>\n",
       "      <th>287</th>\n",
       "      <td>4.50</td>\n",
       "      <td>4.500000</td>\n",
       "      <td>3.500000</td>\n",
       "      <td>4.625000</td>\n",
       "    </tr>\n",
       "    <tr>\n",
       "      <th>294</th>\n",
       "      <td>3.25</td>\n",
       "      <td>3.666667</td>\n",
       "      <td>3.468085</td>\n",
       "      <td>3.597222</td>\n",
       "    </tr>\n",
       "    <tr>\n",
       "      <th>311</th>\n",
       "      <td>2.50</td>\n",
       "      <td>3.000000</td>\n",
       "      <td>2.777778</td>\n",
       "      <td>3.121094</td>\n",
       "    </tr>\n",
       "  </tbody>\n",
       "</table>\n",
       "</div>"
      ],
      "text/plain": [
       "genres  Action  Adventure    Comedy     Drama\n",
       "userId                                       \n",
       "199       4.00   2.000000  3.812500  3.916667\n",
       "263       3.00   3.000000  3.500000  3.227273\n",
       "287       4.50   4.500000  3.500000  4.625000\n",
       "294       3.25   3.666667  3.468085  3.597222\n",
       "311       2.50   3.000000  2.777778  3.121094"
      ]
     },
     "execution_count": 35,
     "metadata": {},
     "output_type": "execute_result"
    }
   ],
   "source": [
    "dfgenre1.head()"
   ]
  },
  {
   "cell_type": "code",
   "execution_count": 36,
   "id": "39fbf0bc",
   "metadata": {},
   "outputs": [
    {
     "data": {
      "text/plain": [
       "<seaborn.axisgrid.PairGrid at 0x182eeb55cd0>"
      ]
     },
     "execution_count": 36,
     "metadata": {},
     "output_type": "execute_result"
    },
    {
     "data": {
      "image/png": "[encoded data removed]",
      "text/plain": [
       "<Figure size 773.5x720 with 20 Axes>"
      ]
     },
     "metadata": {
      "needs_background": "light"
     },
     "output_type": "display_data"
    }
   ],
   "source": [
    "import seaborn as sns\n",
    "for k in [2, 3, 4]:\n",
    "    kmeans = KMeans(n_clusters=k, random_state=0).fit(dfgenre1)\n",
    "    dfgenre1[f'cluster_{k}'] = kmeans.labels_\n",
    "colors = ['#E7C535', '#464566', '#D9D9D9', '#000000']\n",
    "# Visualize the clusters using seaborn\n",
    "sns.pairplot(dfgenre1, hue='cluster_4', vars=['Action', 'Drama', 'Comedy', 'Adventure'],palette=colors)"
   ]
  },
  {
   "cell_type": "markdown",
   "id": "a894dbe7",
   "metadata": {},
   "source": [
    "when the k=2, the pairplot shows that the genere in cluster 0 tend to have lower ratings (Action, Drama, Comedy, and Adventure) compared to the genre in cluster 1.\n",
    "when k=3,The genre in cluster 2 tend to have higher ratings for all genres compared to the genre in cluster 0.\n",
    "when k=4, the pairplot shows that the genre in cluster 0 tend to have lower ratings for Action and Drama genres but higher ratings for Comedy and Adventure genres compared to the genre in cluster 1. The genre in cluster 2 tend to have higher ratings for Action and Drama genres but lower ratings for Comedy and Adventure genres compared to the genre in cluster 3."
   ]
  },
  {
   "cell_type": "markdown",
   "id": "14a3f235",
   "metadata": {},
   "source": [
    "#### 5-Based on just the rating data, should a standard scaler be used to pre-process the data? \n"
   ]
  },
  {
   "cell_type": "markdown",
   "id": "0aca4808",
   "metadata": {},
   "source": [
    "StandardScaler is useful pre-processing technique when the features have different ranges or scale, In the above dataframe the rating of the data is likely to be relatively consistent, the rating scale between (2.0 to 4.5) so it may not be necessary to use a standard scaler for this dataset."
   ]
  },
  {
   "cell_type": "markdown",
   "id": "c7ea3bd8",
   "metadata": {},
   "source": [
    "#### 6-Consider how the clustering exercise would be different with no genre data, could the data formatting we did with genres be done with movie titles? Justify your answer? \n"
   ]
  },
  {
   "cell_type": "markdown",
   "id": "04a6ee9a",
   "metadata": {},
   "source": [
    "Genre data provides a categorical variable that we can use  clustering  to group movies based on a shared attribute, the movie titles are text data that do not provide any inherent grouping or categorization so it may require different set of techniques."
   ]
  },
  {
   "cell_type": "markdown",
   "id": "86cdb74d",
   "metadata": {},
   "source": [
    "#### 7-Can a k-clustering model predict how much someone will enjoy a movie with the given data?"
   ]
  },
  {
   "cell_type": "markdown",
   "id": "bff7abf3",
   "metadata": {},
   "source": [
    "No, a k-clustering model cannot predict how much someone will enjoy a movie with the given data.\n",
    "K-means clustering is an unsupervised machine learning technique that aims to group data points into k clusters based on their similarities and does not predict any outcome or dependent variable.\n",
    "so If we want to predict how much someone will enjoy a movie, we need a supervised learning technique that involves training a model on labeled data."
   ]
  },
  {
   "cell_type": "code",
   "execution_count": null,
   "id": "3cd2271a",
   "metadata": {},
   "outputs": [],
   "source": []
  }
 ],
 "metadata": {
  "kernelspec": {
   "display_name": "Python 3 (ipykernel)",
   "language": "python",
   "name": "python3"
  },
  "language_info": {
   "codemirror_mode": {
    "name": "ipython",
    "version": 3
   },
   "file_extension": ".py",
   "mimetype": "text/x-python",
   "name": "python",
   "nbconvert_exporter": "python",
   "pygments_lexer": "ipython3",
   "version": "3.9.12"
  }
 },
 "nbformat": 4,
 "nbformat_minor": 5
}
